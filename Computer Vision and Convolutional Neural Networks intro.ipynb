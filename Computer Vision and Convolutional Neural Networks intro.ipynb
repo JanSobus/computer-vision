{
 "cells": [
  {
   "cell_type": "code",
   "execution_count": 1,
   "id": "periodic-seller",
   "metadata": {},
   "outputs": [],
   "source": [
    "from fastai.vision.all import *"
   ]
  },
  {
   "cell_type": "markdown",
   "id": "caroline-memorial",
   "metadata": {},
   "source": [
    "# MNIST dataset"
   ]
  },
  {
   "cell_type": "markdown",
   "id": "defensive-electricity",
   "metadata": {},
   "source": [
    "In this notebook I'll try to give a bit of the background of the core ideas of computer vision and neural nets. The cornerstone dataset (and associated problem) is MNIST dataset of hand-written digits and ability to recognize them using computers. Convienently, FASTAI has this dataset too."
   ]
  },
  {
   "cell_type": "code",
   "execution_count": 2,
   "id": "convertible-isaac",
   "metadata": {},
   "outputs": [],
   "source": [
    "path_mnist = untar_data(URLs.MNIST)"
   ]
  },
  {
   "cell_type": "code",
   "execution_count": 3,
   "id": "pressing-rally",
   "metadata": {},
   "outputs": [
    {
     "data": {
      "text/plain": [
       "(#3) [Path('/home/jan/.fastai/data/mnist_png/testing/8/1583.png'),Path('/home/jan/.fastai/data/mnist_png/testing/8/7776.png'),Path('/home/jan/.fastai/data/mnist_png/testing/8/7545.png')]"
      ]
     },
     "execution_count": 3,
     "metadata": {},
     "output_type": "execute_result"
    }
   ],
   "source": [
    "items = get_image_files(path_mnist)\n",
    "items[:3]"
   ]
  },
  {
   "cell_type": "code",
   "execution_count": 4,
   "id": "apparent-ministry",
   "metadata": {},
   "outputs": [
    {
     "data": {
      "text/plain": [
       "<AxesSubplot:>"
      ]
     },
     "execution_count": 4,
     "metadata": {},
     "output_type": "execute_result"
    },
    {
     "data": {
      "image/png": "[encoded data removed]",
      "text/plain": [
       "<Figure size 72x72 with 1 Axes>"
      ]
     },
     "metadata": {
      "needs_background": "light"
     },
     "output_type": "display_data"
    }
   ],
   "source": [
    "sample_image = PILImageBW.create(items[0])\n",
    "sample_image.show()"
   ]
  },
  {
   "cell_type": "markdown",
   "id": "mental-height",
   "metadata": {},
   "source": [
    "From paths, one can see that the dataset is organized in the following way `subset\\class\\image_name` so `GrandparentSplitter` can bve used to form train and test sets"
   ]
  },
  {
   "cell_type": "code",
   "execution_count": 5,
   "id": "faced-match",
   "metadata": {},
   "outputs": [],
   "source": [
    "splitter = GrandparentSplitter(train_name='training', valid_name='testing')"
   ]
  },
  {
   "cell_type": "code",
   "execution_count": 6,
   "id": "homeless-greensboro",
   "metadata": {},
   "outputs": [],
   "source": [
    "splits = splitter(items)"
   ]
  },
  {
   "cell_type": "markdown",
   "id": "extraordinary-harris",
   "metadata": {},
   "source": [
    "I can look at training and validation items indeces now"
   ]
  },
  {
   "cell_type": "code",
   "execution_count": 7,
   "id": "dimensional-fashion",
   "metadata": {},
   "outputs": [
    {
     "data": {
      "text/plain": [
       "([10000, 10001, 10002], [0, 1, 2])"
      ]
     },
     "execution_count": 7,
     "metadata": {},
     "output_type": "execute_result"
    }
   ],
   "source": [
    "#Train,Val\n",
    "splits[0][:3],splits[1][:3]"
   ]
  },
  {
   "cell_type": "code",
   "execution_count": 8,
   "id": "powerful-helen",
   "metadata": {},
   "outputs": [
    {
     "data": {
      "text/plain": [
       "(#10000) [Path('/home/jan/.fastai/data/mnist_png/testing/8/1583.png'),Path('/home/jan/.fastai/data/mnist_png/testing/8/7776.png'),Path('/home/jan/.fastai/data/mnist_png/testing/8/7545.png'),Path('/home/jan/.fastai/data/mnist_png/testing/8/7694.png'),Path('/home/jan/.fastai/data/mnist_png/testing/8/8266.png'),Path('/home/jan/.fastai/data/mnist_png/testing/8/8405.png'),Path('/home/jan/.fastai/data/mnist_png/testing/8/4807.png'),Path('/home/jan/.fastai/data/mnist_png/testing/8/5163.png'),Path('/home/jan/.fastai/data/mnist_png/testing/8/1912.png'),Path('/home/jan/.fastai/data/mnist_png/testing/8/6958.png')...]"
      ]
     },
     "execution_count": 8,
     "metadata": {},
     "output_type": "execute_result"
    }
   ],
   "source": [
    "get_image_files(path_mnist / 'testing')"
   ]
  },
  {
   "cell_type": "markdown",
   "id": "public-conditioning",
   "metadata": {},
   "source": [
    "The indexation of training set starts at 10000, suggesting first 10000 items are testing items, which indeed is correct looking at the number of iamges in the `testing` subfolder"
   ]
  },
  {
   "cell_type": "markdown",
   "id": "advanced-column",
   "metadata": {},
   "source": [
    "Now, I'll create dataset(s) from those splits"
   ]
  },
  {
   "cell_type": "code",
   "execution_count": 9,
   "id": "julian-price",
   "metadata": {},
   "outputs": [],
   "source": [
    "mnist_datasets = Datasets(items, tfms=[[PILImageBW.create], [parent_label,Categorize]], splits=splits)"
   ]
  },
  {
   "cell_type": "markdown",
   "id": "plain-passenger",
   "metadata": {},
   "source": [
    "Breaking it into parts, Datasets ingests:\n",
    "* List of items (lsit of image paths in this  case)\n",
    "* List of 2 lists of transforms used to obtain x (input) and y (output) from the item, here x is loading an image stored in the image path and y gets the label from the parent folder and then maps those labels to category indeces\n",
    "* train/val splits"
   ]
  },
  {
   "cell_type": "markdown",
   "id": "perfect-green",
   "metadata": {},
   "source": [
    "One can look at the item in the `Dataset`"
   ]
  },
  {
   "cell_type": "code",
   "execution_count": 10,
   "id": "ordinary-tribe",
   "metadata": {},
   "outputs": [
    {
     "data": {
      "text/plain": [
       "<AxesSubplot:title={'center':'8'}>"
      ]
     },
     "execution_count": 10,
     "metadata": {},
     "output_type": "execute_result"
    },
    {
     "data": {
      "image/png": "[encoded data removed]",
      "text/plain": [
       "<Figure size 72x72 with 1 Axes>"
      ]
     },
     "metadata": {
      "needs_background": "light"
     },
     "output_type": "display_data"
    }
   ],
   "source": [
    "show_at(mnist_datasets.train,0)"
   ]
  },
  {
   "cell_type": "markdown",
   "id": "front-victorian",
   "metadata": {},
   "source": [
    "According to the splitter, the training item at index 0 should be the item index 10000 in the whole set, which indeed is the case"
   ]
  },
  {
   "cell_type": "code",
   "execution_count": 11,
   "id": "small-legislation",
   "metadata": {},
   "outputs": [
    {
     "data": {
      "text/plain": [
       "<AxesSubplot:>"
      ]
     },
     "execution_count": 11,
     "metadata": {},
     "output_type": "execute_result"
    },
    {
     "data": {
      "image/png": "[encoded data removed]",
      "text/plain": [
       "<Figure size 72x72 with 1 Axes>"
      ]
     },
     "metadata": {
      "needs_background": "light"
     },
     "output_type": "display_data"
    }
   ],
   "source": [
    "sample_image = PILImageBW.create(items[10000])\n",
    "sample_image.show()"
   ]
  },
  {
   "cell_type": "markdown",
   "id": "lasting-gentleman",
   "metadata": {},
   "source": [
    "Now to be able to work on the dataset with classifier, I need to make sure those images are tensors, of the same size and can probably introduce some augemntation in the form of random crops too. There are too transformation types in FAST AI, `item transforms` which are applied at each individual item and run on CPU and `batch transforms` applied in the same way to the whole batch and done on GPU."
   ]
  },
  {
   "cell_type": "code",
   "execution_count": 12,
   "id": "breeding-boston",
   "metadata": {},
   "outputs": [],
   "source": [
    "item_tfms = [ToTensor(), CropPad(size=36, pad_mode=PadMode.Zeros), RandomCrop(size=28)]"
   ]
  },
  {
   "cell_type": "code",
   "execution_count": 13,
   "id": "unauthorized-botswana",
   "metadata": {},
   "outputs": [],
   "source": [
    "batch_tfms = [IntToFloatTensor(), Normalize()]"
   ]
  },
  {
   "cell_type": "markdown",
   "id": "physical-threshold",
   "metadata": {},
   "source": [
    "Now the dataloaders can be built from datasets using those transforms."
   ]
  },
  {
   "cell_type": "code",
   "execution_count": 14,
   "id": "acknowledged-soundtrack",
   "metadata": {},
   "outputs": [],
   "source": [
    "mnist_dataloaders = mnist_datasets.dataloaders(bs=256, after_item=item_tfms, after_batch=batch_tfms)"
   ]
  },
  {
   "cell_type": "code",
   "execution_count": 15,
   "id": "moving-thesaurus",
   "metadata": {},
   "outputs": [
    {
     "data": {
      "image/png": "[encoded data removed]",
      "text/plain": [
       "<Figure size 648x648 with 9 Axes>"
      ]
     },
     "metadata": {
      "needs_background": "light"
     },
     "output_type": "display_data"
    }
   ],
   "source": [
    "mnist_dataloaders.show_batch()"
   ]
  },
  {
   "cell_type": "markdown",
   "id": "endless-senator",
   "metadata": {},
   "source": [
    "I can also look at the sizes of the single batch"
   ]
  },
  {
   "cell_type": "code",
   "execution_count": 16,
   "id": "modern-apple",
   "metadata": {},
   "outputs": [
    {
     "data": {
      "text/plain": [
       "(torch.Size([256, 1, 28, 28]), torch.Size([256]))"
      ]
     },
     "execution_count": 16,
     "metadata": {},
     "output_type": "execute_result"
    }
   ],
   "source": [
    "xb,yb = mnist_dataloaders.one_batch()\n",
    "xb.shape, yb.shape"
   ]
  },
  {
   "cell_type": "markdown",
   "id": "peaceful-andrews",
   "metadata": {},
   "source": [
    "As expected, input batch has shape of [N,C,H,W] where N is number of the items in the batch, C=1 is number of channels (grayscale image has a single channel  information) and H,W being image height and width respectively. output batch has a shape of N, since the otput of the prediction is a single class label for each image in the batch. I can also check that there are 10 classes in total as expected"
   ]
  },
  {
   "cell_type": "code",
   "execution_count": 17,
   "id": "increasing-logic",
   "metadata": {},
   "outputs": [
    {
     "data": {
      "text/plain": [
       "10"
      ]
     },
     "execution_count": 17,
     "metadata": {},
     "output_type": "execute_result"
    }
   ],
   "source": [
    "mnist_dataloaders.c"
   ]
  },
  {
   "cell_type": "markdown",
   "id": "adapted-analyst",
   "metadata": {},
   "source": [
    "## Building the neural net"
   ]
  },
  {
   "cell_type": "markdown",
   "id": "underlying-penny",
   "metadata": {},
   "source": [
    "### Very simplified history"
   ]
  },
  {
   "cell_type": "markdown",
   "id": "coastal-assistant",
   "metadata": {},
   "source": [
    "The first iterations of neural nets (perceptrons) consited only of so called fully connected layers. Such layer takes all the elements of the input and predefined number of output elements (neurons) and connects every pair of them together by a scaling factor (weight). Each output neuron can have some bias term as well (additional constant that we add to its output, no matter what the input was). Mathematically it can be seen as $ Output = W*input+b $ where $ W $ is the matrix of weights, and $ b, input, output $ are vectors. There is an excellent video and article by Grant Sanderson [here](https://www.3blue1brown.com/lessons/neural-networks) explaining it in more detail.\n",
    "\n",
    "When Machine Learning evolved and moved to image analysis, it turned out that the fully connected layers are too heavy (have too many parameters) and don't grasp the 2D (or 3D for one color images) structure of information. In order to address those issues,  convolution layers were introduced. Such layer is built from a number of kernels (filters) which can be imagined as a small window of weights sliding over the image. The idea was borrowed from classical image analysis techiques, where such kernels were used for example for edge detection (see for example [Sobel Filter](https://en.wikipedia.org/wiki/Sobel_operator)). A collection of such kernels has several advantages:\n",
    "* A lot less parameters than fully connected layer for large input sizes\n",
    "* Ability to encode the spatial information of groups of local pixels (feature maps)\n",
    "* For networks built entirely of convolutional layers, you don't require predefined input size\n",
    "\n",
    "Convolutional layers have a lot of parameters describing their behaviour (size, how they slide over the image, number of kernels in the layer etc)  - there is an excellent description of those [here](https://arxiv.org/pdf/1603.07285.pdf)\n",
    "\n",
    "Both the fully connected layers and convolution layers are linear transformations (addition and multiplication). In order for model to be able to learn non-linear behaviour, additional non-linear function must be introduced (called activation function). The most commonly used one is Rectified Linear Unit (ReLU), which returns x for x>0 and 0 for x <= 0. There is [a lot more](https://www.analyticsvidhya.com/blog/2020/01/fundamentals-deep-learning-activation-functions-when-to-use-them/) of activation functions to choose from, but for this demonstration ReLu is enough.\n",
    "\n",
    "Final block of the network is a 'helper' batch normalization layer. It helps to keep gradients under control during the training and as a result leads to faster model convergence. If you want to understand how the model learns during training, Grant has another great video on the subject [here](https://www.3blue1brown.com/lessons/gradient-descent)."
   ]
  },
  {
   "cell_type": "markdown",
   "id": "premium-necessity",
   "metadata": {},
   "source": [
    "### Building blocks"
   ]
  },
  {
   "cell_type": "code",
   "execution_count": 18,
   "id": "dominican-castle",
   "metadata": {},
   "outputs": [],
   "source": [
    "#3x3 kernels moving every 2 pixels with ni input channels, nf output channels and no bias\n",
    "def conv(ni, nf): return nn.Conv2d(ni, nf, kernel_size=3, stride=2, padding=1, bias=False) "
   ]
  },
  {
   "cell_type": "code",
   "execution_count": 19,
   "id": "palestinian-physics",
   "metadata": {},
   "outputs": [],
   "source": [
    "def bn(nf): return nn.BatchNorm2d(nf)"
   ]
  },
  {
   "cell_type": "code",
   "execution_count": 20,
   "id": "classified-superior",
   "metadata": {},
   "outputs": [],
   "source": [
    "def ReLU(): return nn.ReLU(inplace=False)"
   ]
  },
  {
   "cell_type": "markdown",
   "id": "understood-symbol",
   "metadata": {},
   "source": [
    "I'll use the `nn.Sequential` module from PyTorch, which essentially creates a single line of layers stacked one after another with output of the preceding layer being input to the next one. Note that the convolution layers change the number of channels and batchnorm does not, but the dimensions of connected layers are well matched"
   ]
  },
  {
   "cell_type": "code",
   "execution_count": 21,
   "id": "theoretical-austin",
   "metadata": {},
   "outputs": [],
   "source": [
    "model = nn.Sequential(\n",
    "    conv(1, 8),\n",
    "    bn(8),\n",
    "    ReLU(),\n",
    "    conv(8, 16),\n",
    "    bn(16),\n",
    "    ReLU(),\n",
    "    conv(16,32),\n",
    "    bn(32),\n",
    "    ReLU(),\n",
    "    conv(32, 16),\n",
    "    bn(16),\n",
    "    ReLU(),\n",
    "    conv(16, 10),\n",
    "    bn(10),\n",
    "    Flatten()\n",
    ")"
   ]
  },
  {
   "cell_type": "markdown",
   "id": "fatty-conclusion",
   "metadata": {},
   "source": [
    "The final `Flatten` function collapses additional dimensions from the last layer into a single dimension vector with score for each number"
   ]
  },
  {
   "cell_type": "markdown",
   "id": "twenty-identification",
   "metadata": {},
   "source": [
    "Upon building a learner with that model, the actual full dimensions of the layers can be seen"
   ]
  },
  {
   "cell_type": "code",
   "execution_count": 22,
   "id": "anonymous-relief",
   "metadata": {},
   "outputs": [],
   "source": [
    "learn = Learner(mnist_dataloaders, model, loss_func=CrossEntropyLossFlat(), metrics=accuracy)"
   ]
  },
  {
   "cell_type": "code",
   "execution_count": 23,
   "id": "every-eight",
   "metadata": {},
   "outputs": [
    {
     "data": {
      "text/html": [],
      "text/plain": [
       "<IPython.core.display.HTML object>"
      ]
     },
     "metadata": {},
     "output_type": "display_data"
    },
    {
     "data": {
      "text/plain": [
       "Sequential (Input shape: 256)\n",
       "============================================================================\n",
       "Layer (type)         Output Shape         Param #    Trainable \n",
       "============================================================================\n",
       "                     256 x 8 x 14 x 14   \n",
       "Conv2d                                    72         True      \n",
       "BatchNorm2d                               16         True      \n",
       "ReLU                                                           \n",
       "____________________________________________________________________________\n",
       "                     256 x 16 x 7 x 7    \n",
       "Conv2d                                    1152       True      \n",
       "BatchNorm2d                               32         True      \n",
       "ReLU                                                           \n",
       "____________________________________________________________________________\n",
       "                     256 x 32 x 4 x 4    \n",
       "Conv2d                                    4608       True      \n",
       "BatchNorm2d                               64         True      \n",
       "ReLU                                                           \n",
       "____________________________________________________________________________\n",
       "                     256 x 16 x 2 x 2    \n",
       "Conv2d                                    4608       True      \n",
       "BatchNorm2d                               32         True      \n",
       "ReLU                                                           \n",
       "____________________________________________________________________________\n",
       "                     256 x 10 x 1 x 1    \n",
       "Conv2d                                    1440       True      \n",
       "BatchNorm2d                               20         True      \n",
       "____________________________________________________________________________\n",
       "                     []                  \n",
       "Flatten                                                        \n",
       "____________________________________________________________________________\n",
       "\n",
       "Total params: 12,044\n",
       "Total trainable params: 12,044\n",
       "Total non-trainable params: 0\n",
       "\n",
       "Optimizer used: <function Adam at 0x7f484c1b3940>\n",
       "Loss function: FlattenedLoss of CrossEntropyLoss()\n",
       "\n",
       "Callbacks:\n",
       "  - TrainEvalCallback\n",
       "  - Recorder\n",
       "  - ProgressCallback"
      ]
     },
     "execution_count": 23,
     "metadata": {},
     "output_type": "execute_result"
    }
   ],
   "source": [
    "learn.summary()"
   ]
  },
  {
   "cell_type": "markdown",
   "id": "pregnant-pharmacology",
   "metadata": {},
   "source": [
    "As expected, convolution layers have 3 x 3 x ni x nf parameters and batchnorm layers 2 x nf.\n",
    "It can be trained now:"
   ]
  },
  {
   "cell_type": "code",
   "execution_count": 24,
   "id": "stuffed-bobby",
   "metadata": {},
   "outputs": [
    {
     "data": {
      "text/html": [],
      "text/plain": [
       "<IPython.core.display.HTML object>"
      ]
     },
     "metadata": {},
     "output_type": "display_data"
    },
    {
     "data": {
      "text/plain": [
       "SuggestedLRs(valley=0.010964781977236271)"
      ]
     },
     "execution_count": 24,
     "metadata": {},
     "output_type": "execute_result"
    },
    {
     "data": {
      "image/png": "[encoded data removed]",
      "text/plain": [
       "<Figure size 432x288 with 1 Axes>"
      ]
     },
     "metadata": {
      "needs_background": "light"
     },
     "output_type": "display_data"
    }
   ],
   "source": [
    "learn.lr_find()"
   ]
  },
  {
   "cell_type": "code",
   "execution_count": 25,
   "id": "coastal-render",
   "metadata": {},
   "outputs": [
    {
     "data": {
      "text/html": [
       "<table border=\"1\" class=\"dataframe\">\n",
       "  <thead>\n",
       "    <tr style=\"text-align: left;\">\n",
       "      <th>epoch</th>\n",
       "      <th>train_loss</th>\n",
       "      <th>valid_loss</th>\n",
       "      <th>accuracy</th>\n",
       "      <th>time</th>\n",
       "    </tr>\n",
       "  </thead>\n",
       "  <tbody>\n",
       "    <tr>\n",
       "      <td>0</td>\n",
       "      <td>0.277194</td>\n",
       "      <td>0.214870</td>\n",
       "      <td>0.931700</td>\n",
       "      <td>00:09</td>\n",
       "    </tr>\n",
       "    <tr>\n",
       "      <td>1</td>\n",
       "      <td>0.159472</td>\n",
       "      <td>0.127545</td>\n",
       "      <td>0.958900</td>\n",
       "      <td>00:08</td>\n",
       "    </tr>\n",
       "    <tr>\n",
       "      <td>2</td>\n",
       "      <td>0.124581</td>\n",
       "      <td>0.106111</td>\n",
       "      <td>0.964500</td>\n",
       "      <td>00:09</td>\n",
       "    </tr>\n",
       "    <tr>\n",
       "      <td>3</td>\n",
       "      <td>0.082404</td>\n",
       "      <td>0.060451</td>\n",
       "      <td>0.980000</td>\n",
       "      <td>00:08</td>\n",
       "    </tr>\n",
       "    <tr>\n",
       "      <td>4</td>\n",
       "      <td>0.058302</td>\n",
       "      <td>0.040417</td>\n",
       "      <td>0.986400</td>\n",
       "      <td>00:08</td>\n",
       "    </tr>\n",
       "  </tbody>\n",
       "</table>"
      ],
      "text/plain": [
       "<IPython.core.display.HTML object>"
      ]
     },
     "metadata": {},
     "output_type": "display_data"
    }
   ],
   "source": [
    "learn.fit_one_cycle(5, lr_max=1e-1)"
   ]
  },
  {
   "cell_type": "markdown",
   "id": "oriental-absence",
   "metadata": {},
   "source": [
    "Fast AI has a `ConvLayer` function that encompasses the 3 basic building blocks (`Conv2d`,`BatchNorm` and `ReLU`) in a single block, that makes building the model a lot simpler."
   ]
  },
  {
   "cell_type": "code",
   "execution_count": 26,
   "id": "immediate-tunisia",
   "metadata": {},
   "outputs": [],
   "source": [
    "def conv2(ni, nf): return ConvLayer(ni, nf, stride=2)"
   ]
  },
  {
   "cell_type": "markdown",
   "id": "sustainable-oklahoma",
   "metadata": {},
   "source": [
    "As can be seen below, the elements inside are the same as in earlier model block"
   ]
  },
  {
   "cell_type": "code",
   "execution_count": 27,
   "id": "personal-combination",
   "metadata": {},
   "outputs": [
    {
     "data": {
      "text/plain": [
       "ConvLayer(\n",
       "  (0): Conv2d(1, 8, kernel_size=(3, 3), stride=(2, 2), padding=(1, 1), bias=False)\n",
       "  (1): BatchNorm2d(8, eps=1e-05, momentum=0.1, affine=True, track_running_stats=True)\n",
       "  (2): ReLU()\n",
       ")"
      ]
     },
     "execution_count": 27,
     "metadata": {},
     "output_type": "execute_result"
    }
   ],
   "source": [
    "conv2(1,8)"
   ]
  },
  {
   "cell_type": "markdown",
   "id": "false-accountability",
   "metadata": {},
   "source": [
    "Building the whole model again"
   ]
  },
  {
   "cell_type": "code",
   "execution_count": 28,
   "id": "cardiovascular-working",
   "metadata": {},
   "outputs": [],
   "source": [
    "model2 = nn.Sequential(\n",
    "    conv2(1,8),\n",
    "    conv2(8,16),\n",
    "    conv2(16,32),\n",
    "    conv2(32,16),\n",
    "    conv2(16,10),\n",
    "    Flatten()\n",
    ")"
   ]
  },
  {
   "cell_type": "markdown",
   "id": "latest-pharmacy",
   "metadata": {},
   "source": [
    "Model summary looks the same"
   ]
  },
  {
   "cell_type": "code",
   "execution_count": 29,
   "id": "intimate-praise",
   "metadata": {},
   "outputs": [],
   "source": [
    "learn2 = Learner(mnist_dataloaders, model2, loss_func=CrossEntropyLossFlat(), metrics=accuracy)"
   ]
  },
  {
   "cell_type": "code",
   "execution_count": 30,
   "id": "experienced-frederick",
   "metadata": {},
   "outputs": [
    {
     "data": {
      "text/html": [],
      "text/plain": [
       "<IPython.core.display.HTML object>"
      ]
     },
     "metadata": {},
     "output_type": "display_data"
    },
    {
     "data": {
      "text/plain": [
       "Sequential (Input shape: 256)\n",
       "============================================================================\n",
       "Layer (type)         Output Shape         Param #    Trainable \n",
       "============================================================================\n",
       "                     256 x 8 x 14 x 14   \n",
       "Conv2d                                    72         True      \n",
       "BatchNorm2d                               16         True      \n",
       "ReLU                                                           \n",
       "____________________________________________________________________________\n",
       "                     256 x 16 x 7 x 7    \n",
       "Conv2d                                    1152       True      \n",
       "BatchNorm2d                               32         True      \n",
       "ReLU                                                           \n",
       "____________________________________________________________________________\n",
       "                     256 x 32 x 4 x 4    \n",
       "Conv2d                                    4608       True      \n",
       "BatchNorm2d                               64         True      \n",
       "ReLU                                                           \n",
       "____________________________________________________________________________\n",
       "                     256 x 16 x 2 x 2    \n",
       "Conv2d                                    4608       True      \n",
       "BatchNorm2d                               32         True      \n",
       "ReLU                                                           \n",
       "____________________________________________________________________________\n",
       "                     256 x 10 x 1 x 1    \n",
       "Conv2d                                    1440       True      \n",
       "BatchNorm2d                               20         True      \n",
       "ReLU                                                           \n",
       "Flatten                                                        \n",
       "____________________________________________________________________________\n",
       "\n",
       "Total params: 12,044\n",
       "Total trainable params: 12,044\n",
       "Total non-trainable params: 0\n",
       "\n",
       "Optimizer used: <function Adam at 0x7f484c1b3940>\n",
       "Loss function: FlattenedLoss of CrossEntropyLoss()\n",
       "\n",
       "Callbacks:\n",
       "  - TrainEvalCallback\n",
       "  - Recorder\n",
       "  - ProgressCallback"
      ]
     },
     "execution_count": 30,
     "metadata": {},
     "output_type": "execute_result"
    }
   ],
   "source": [
    "learn2.summary()"
   ]
  },
  {
   "cell_type": "markdown",
   "id": "alien-crack",
   "metadata": {},
   "source": [
    "Training"
   ]
  },
  {
   "cell_type": "code",
   "execution_count": 31,
   "id": "official-mixer",
   "metadata": {},
   "outputs": [
    {
     "data": {
      "text/html": [
       "<table border=\"1\" class=\"dataframe\">\n",
       "  <thead>\n",
       "    <tr style=\"text-align: left;\">\n",
       "      <th>epoch</th>\n",
       "      <th>train_loss</th>\n",
       "      <th>valid_loss</th>\n",
       "      <th>accuracy</th>\n",
       "      <th>time</th>\n",
       "    </tr>\n",
       "  </thead>\n",
       "  <tbody>\n",
       "    <tr>\n",
       "      <td>0</td>\n",
       "      <td>0.304594</td>\n",
       "      <td>0.198278</td>\n",
       "      <td>0.938100</td>\n",
       "      <td>00:08</td>\n",
       "    </tr>\n",
       "    <tr>\n",
       "      <td>1</td>\n",
       "      <td>0.165254</td>\n",
       "      <td>0.235480</td>\n",
       "      <td>0.924300</td>\n",
       "      <td>00:08</td>\n",
       "    </tr>\n",
       "    <tr>\n",
       "      <td>2</td>\n",
       "      <td>0.122354</td>\n",
       "      <td>0.100670</td>\n",
       "      <td>0.966600</td>\n",
       "      <td>00:08</td>\n",
       "    </tr>\n",
       "    <tr>\n",
       "      <td>3</td>\n",
       "      <td>0.085143</td>\n",
       "      <td>0.053598</td>\n",
       "      <td>0.983700</td>\n",
       "      <td>00:08</td>\n",
       "    </tr>\n",
       "    <tr>\n",
       "      <td>4</td>\n",
       "      <td>0.058952</td>\n",
       "      <td>0.039836</td>\n",
       "      <td>0.987400</td>\n",
       "      <td>00:08</td>\n",
       "    </tr>\n",
       "  </tbody>\n",
       "</table>"
      ],
      "text/plain": [
       "<IPython.core.display.HTML object>"
      ]
     },
     "metadata": {},
     "output_type": "display_data"
    }
   ],
   "source": [
    "learn2.fit_one_cycle(5, lr_max=1e-1)"
   ]
  },
  {
   "cell_type": "markdown",
   "id": "absent-router",
   "metadata": {},
   "source": [
    "## Poor mans ResNet"
   ]
  },
  {
   "cell_type": "markdown",
   "id": "painful-wallpaper",
   "metadata": {},
   "source": [
    "ResNet is one of the more widespread and successful neural network architectures ([paper](https://arxiv.org/pdf/1512.03385.pdf)). The name comes from residual layers (blocks) that accept the feature map and return the same size feature map which is sum of the pure input and input passed through 2 convolutional filters. Let's build such block below:"
   ]
  },
  {
   "cell_type": "code",
   "execution_count": 32,
   "id": "commercial-heavy",
   "metadata": {},
   "outputs": [],
   "source": [
    "class ResBlock(Module):\n",
    "    def __init__(self, nf):\n",
    "        self.conv1 = ConvLayer(nf, nf)\n",
    "        self.conv2 = ConvLayer(nf, nf)\n",
    "  \n",
    "    def forward(self, x): return x + self.conv2(self.conv1(x))"
   ]
  },
  {
   "cell_type": "markdown",
   "id": "committed-occasions",
   "metadata": {},
   "source": [
    "Let's stick those ResBlocks between the layers of the previous model"
   ]
  },
  {
   "cell_type": "code",
   "execution_count": 33,
   "id": "overhead-variance",
   "metadata": {},
   "outputs": [],
   "source": [
    "model3 = nn.Sequential(\n",
    "    conv2(1,8),\n",
    "    ResBlock(8),\n",
    "    conv2(8,16),\n",
    "    ResBlock(16),\n",
    "    conv2(16,32),\n",
    "    ResBlock(32),\n",
    "    conv2(32,16),\n",
    "    ResBlock(16),\n",
    "    conv2(16,10),\n",
    "    Flatten()\n",
    ")"
   ]
  },
  {
   "cell_type": "code",
   "execution_count": 34,
   "id": "listed-effect",
   "metadata": {},
   "outputs": [
    {
     "data": {
      "text/plain": [
       "Sequential(\n",
       "  (0): ConvLayer(\n",
       "    (0): Conv2d(1, 8, kernel_size=(3, 3), stride=(2, 2), padding=(1, 1), bias=False)\n",
       "    (1): BatchNorm2d(8, eps=1e-05, momentum=0.1, affine=True, track_running_stats=True)\n",
       "    (2): ReLU()\n",
       "  )\n",
       "  (1): ResBlock(\n",
       "    (conv1): ConvLayer(\n",
       "      (0): Conv2d(8, 8, kernel_size=(3, 3), stride=(1, 1), padding=(1, 1), bias=False)\n",
       "      (1): BatchNorm2d(8, eps=1e-05, momentum=0.1, affine=True, track_running_stats=True)\n",
       "      (2): ReLU()\n",
       "    )\n",
       "    (conv2): ConvLayer(\n",
       "      (0): Conv2d(8, 8, kernel_size=(3, 3), stride=(1, 1), padding=(1, 1), bias=False)\n",
       "      (1): BatchNorm2d(8, eps=1e-05, momentum=0.1, affine=True, track_running_stats=True)\n",
       "      (2): ReLU()\n",
       "    )\n",
       "  )\n",
       "  (2): ConvLayer(\n",
       "    (0): Conv2d(8, 16, kernel_size=(3, 3), stride=(2, 2), padding=(1, 1), bias=False)\n",
       "    (1): BatchNorm2d(16, eps=1e-05, momentum=0.1, affine=True, track_running_stats=True)\n",
       "    (2): ReLU()\n",
       "  )\n",
       "  (3): ResBlock(\n",
       "    (conv1): ConvLayer(\n",
       "      (0): Conv2d(16, 16, kernel_size=(3, 3), stride=(1, 1), padding=(1, 1), bias=False)\n",
       "      (1): BatchNorm2d(16, eps=1e-05, momentum=0.1, affine=True, track_running_stats=True)\n",
       "      (2): ReLU()\n",
       "    )\n",
       "    (conv2): ConvLayer(\n",
       "      (0): Conv2d(16, 16, kernel_size=(3, 3), stride=(1, 1), padding=(1, 1), bias=False)\n",
       "      (1): BatchNorm2d(16, eps=1e-05, momentum=0.1, affine=True, track_running_stats=True)\n",
       "      (2): ReLU()\n",
       "    )\n",
       "  )\n",
       "  (4): ConvLayer(\n",
       "    (0): Conv2d(16, 32, kernel_size=(3, 3), stride=(2, 2), padding=(1, 1), bias=False)\n",
       "    (1): BatchNorm2d(32, eps=1e-05, momentum=0.1, affine=True, track_running_stats=True)\n",
       "    (2): ReLU()\n",
       "  )\n",
       "  (5): ResBlock(\n",
       "    (conv1): ConvLayer(\n",
       "      (0): Conv2d(32, 32, kernel_size=(3, 3), stride=(1, 1), padding=(1, 1), bias=False)\n",
       "      (1): BatchNorm2d(32, eps=1e-05, momentum=0.1, affine=True, track_running_stats=True)\n",
       "      (2): ReLU()\n",
       "    )\n",
       "    (conv2): ConvLayer(\n",
       "      (0): Conv2d(32, 32, kernel_size=(3, 3), stride=(1, 1), padding=(1, 1), bias=False)\n",
       "      (1): BatchNorm2d(32, eps=1e-05, momentum=0.1, affine=True, track_running_stats=True)\n",
       "      (2): ReLU()\n",
       "    )\n",
       "  )\n",
       "  (6): ConvLayer(\n",
       "    (0): Conv2d(32, 16, kernel_size=(3, 3), stride=(2, 2), padding=(1, 1), bias=False)\n",
       "    (1): BatchNorm2d(16, eps=1e-05, momentum=0.1, affine=True, track_running_stats=True)\n",
       "    (2): ReLU()\n",
       "  )\n",
       "  (7): ResBlock(\n",
       "    (conv1): ConvLayer(\n",
       "      (0): Conv2d(16, 16, kernel_size=(3, 3), stride=(1, 1), padding=(1, 1), bias=False)\n",
       "      (1): BatchNorm2d(16, eps=1e-05, momentum=0.1, affine=True, track_running_stats=True)\n",
       "      (2): ReLU()\n",
       "    )\n",
       "    (conv2): ConvLayer(\n",
       "      (0): Conv2d(16, 16, kernel_size=(3, 3), stride=(1, 1), padding=(1, 1), bias=False)\n",
       "      (1): BatchNorm2d(16, eps=1e-05, momentum=0.1, affine=True, track_running_stats=True)\n",
       "      (2): ReLU()\n",
       "    )\n",
       "  )\n",
       "  (8): ConvLayer(\n",
       "    (0): Conv2d(16, 10, kernel_size=(3, 3), stride=(2, 2), padding=(1, 1), bias=False)\n",
       "    (1): BatchNorm2d(10, eps=1e-05, momentum=0.1, affine=True, track_running_stats=True)\n",
       "    (2): ReLU()\n",
       "  )\n",
       "  (9): Flatten(full=False)\n",
       ")"
      ]
     },
     "execution_count": 34,
     "metadata": {},
     "output_type": "execute_result"
    }
   ],
   "source": [
    "model3"
   ]
  },
  {
   "cell_type": "markdown",
   "id": "superb-garage",
   "metadata": {},
   "source": [
    "Since almost all `conv2` blocks are followed `ResBlock`, the netowrk structure can be simplified further:"
   ]
  },
  {
   "cell_type": "code",
   "execution_count": 35,
   "id": "adjacent-pocket",
   "metadata": {},
   "outputs": [],
   "source": [
    "def conv_and_res(ni, nf): return nn.Sequential(conv2(ni, nf), ResBlock(nf))"
   ]
  },
  {
   "cell_type": "code",
   "execution_count": 36,
   "id": "nasty-exploration",
   "metadata": {},
   "outputs": [],
   "source": [
    "model4 = nn.Sequential(\n",
    "    conv_and_res(1,8),\n",
    "    conv_and_res(8,16),\n",
    "    conv_and_res(16,32),\n",
    "    conv_and_res(32,16),\n",
    "    conv2(16,10),\n",
    "    Flatten()\n",
    ")"
   ]
  },
  {
   "cell_type": "markdown",
   "id": "specialized-train",
   "metadata": {},
   "source": [
    "There are more `Sequential` wrappers, but the model is essentially the same"
   ]
  },
  {
   "cell_type": "code",
   "execution_count": 37,
   "id": "signal-science",
   "metadata": {},
   "outputs": [
    {
     "data": {
      "text/plain": [
       "Sequential(\n",
       "  (0): Sequential(\n",
       "    (0): ConvLayer(\n",
       "      (0): Conv2d(1, 8, kernel_size=(3, 3), stride=(2, 2), padding=(1, 1), bias=False)\n",
       "      (1): BatchNorm2d(8, eps=1e-05, momentum=0.1, affine=True, track_running_stats=True)\n",
       "      (2): ReLU()\n",
       "    )\n",
       "    (1): ResBlock(\n",
       "      (conv1): ConvLayer(\n",
       "        (0): Conv2d(8, 8, kernel_size=(3, 3), stride=(1, 1), padding=(1, 1), bias=False)\n",
       "        (1): BatchNorm2d(8, eps=1e-05, momentum=0.1, affine=True, track_running_stats=True)\n",
       "        (2): ReLU()\n",
       "      )\n",
       "      (conv2): ConvLayer(\n",
       "        (0): Conv2d(8, 8, kernel_size=(3, 3), stride=(1, 1), padding=(1, 1), bias=False)\n",
       "        (1): BatchNorm2d(8, eps=1e-05, momentum=0.1, affine=True, track_running_stats=True)\n",
       "        (2): ReLU()\n",
       "      )\n",
       "    )\n",
       "  )\n",
       "  (1): Sequential(\n",
       "    (0): ConvLayer(\n",
       "      (0): Conv2d(8, 16, kernel_size=(3, 3), stride=(2, 2), padding=(1, 1), bias=False)\n",
       "      (1): BatchNorm2d(16, eps=1e-05, momentum=0.1, affine=True, track_running_stats=True)\n",
       "      (2): ReLU()\n",
       "    )\n",
       "    (1): ResBlock(\n",
       "      (conv1): ConvLayer(\n",
       "        (0): Conv2d(16, 16, kernel_size=(3, 3), stride=(1, 1), padding=(1, 1), bias=False)\n",
       "        (1): BatchNorm2d(16, eps=1e-05, momentum=0.1, affine=True, track_running_stats=True)\n",
       "        (2): ReLU()\n",
       "      )\n",
       "      (conv2): ConvLayer(\n",
       "        (0): Conv2d(16, 16, kernel_size=(3, 3), stride=(1, 1), padding=(1, 1), bias=False)\n",
       "        (1): BatchNorm2d(16, eps=1e-05, momentum=0.1, affine=True, track_running_stats=True)\n",
       "        (2): ReLU()\n",
       "      )\n",
       "    )\n",
       "  )\n",
       "  (2): Sequential(\n",
       "    (0): ConvLayer(\n",
       "      (0): Conv2d(16, 32, kernel_size=(3, 3), stride=(2, 2), padding=(1, 1), bias=False)\n",
       "      (1): BatchNorm2d(32, eps=1e-05, momentum=0.1, affine=True, track_running_stats=True)\n",
       "      (2): ReLU()\n",
       "    )\n",
       "    (1): ResBlock(\n",
       "      (conv1): ConvLayer(\n",
       "        (0): Conv2d(32, 32, kernel_size=(3, 3), stride=(1, 1), padding=(1, 1), bias=False)\n",
       "        (1): BatchNorm2d(32, eps=1e-05, momentum=0.1, affine=True, track_running_stats=True)\n",
       "        (2): ReLU()\n",
       "      )\n",
       "      (conv2): ConvLayer(\n",
       "        (0): Conv2d(32, 32, kernel_size=(3, 3), stride=(1, 1), padding=(1, 1), bias=False)\n",
       "        (1): BatchNorm2d(32, eps=1e-05, momentum=0.1, affine=True, track_running_stats=True)\n",
       "        (2): ReLU()\n",
       "      )\n",
       "    )\n",
       "  )\n",
       "  (3): Sequential(\n",
       "    (0): ConvLayer(\n",
       "      (0): Conv2d(32, 16, kernel_size=(3, 3), stride=(2, 2), padding=(1, 1), bias=False)\n",
       "      (1): BatchNorm2d(16, eps=1e-05, momentum=0.1, affine=True, track_running_stats=True)\n",
       "      (2): ReLU()\n",
       "    )\n",
       "    (1): ResBlock(\n",
       "      (conv1): ConvLayer(\n",
       "        (0): Conv2d(16, 16, kernel_size=(3, 3), stride=(1, 1), padding=(1, 1), bias=False)\n",
       "        (1): BatchNorm2d(16, eps=1e-05, momentum=0.1, affine=True, track_running_stats=True)\n",
       "        (2): ReLU()\n",
       "      )\n",
       "      (conv2): ConvLayer(\n",
       "        (0): Conv2d(16, 16, kernel_size=(3, 3), stride=(1, 1), padding=(1, 1), bias=False)\n",
       "        (1): BatchNorm2d(16, eps=1e-05, momentum=0.1, affine=True, track_running_stats=True)\n",
       "        (2): ReLU()\n",
       "      )\n",
       "    )\n",
       "  )\n",
       "  (4): ConvLayer(\n",
       "    (0): Conv2d(16, 10, kernel_size=(3, 3), stride=(2, 2), padding=(1, 1), bias=False)\n",
       "    (1): BatchNorm2d(10, eps=1e-05, momentum=0.1, affine=True, track_running_stats=True)\n",
       "    (2): ReLU()\n",
       "  )\n",
       "  (5): Flatten(full=False)\n",
       ")"
      ]
     },
     "execution_count": 37,
     "metadata": {},
     "output_type": "execute_result"
    }
   ],
   "source": [
    "model4"
   ]
  },
  {
   "cell_type": "code",
   "execution_count": 38,
   "id": "laden-gossip",
   "metadata": {},
   "outputs": [],
   "source": [
    "learn3 = Learner(mnist_dataloaders, model4, loss_func=CrossEntropyLossFlat(), metrics=accuracy)"
   ]
  },
  {
   "cell_type": "code",
   "execution_count": 39,
   "id": "supposed-reproduction",
   "metadata": {},
   "outputs": [
    {
     "data": {
      "text/html": [],
      "text/plain": [
       "<IPython.core.display.HTML object>"
      ]
     },
     "metadata": {},
     "output_type": "display_data"
    },
    {
     "data": {
      "text/plain": [
       "SuggestedLRs(valley=0.019054606556892395)"
      ]
     },
     "execution_count": 39,
     "metadata": {},
     "output_type": "execute_result"
    },
    {
     "data": {
      "image/png": "[encoded data removed]",
      "text/plain": [
       "<Figure size 432x288 with 1 Axes>"
      ]
     },
     "metadata": {
      "needs_background": "light"
     },
     "output_type": "display_data"
    }
   ],
   "source": [
    "learn3.lr_find()"
   ]
  },
  {
   "cell_type": "code",
   "execution_count": 40,
   "id": "mature-brooks",
   "metadata": {},
   "outputs": [
    {
     "data": {
      "text/html": [
       "<table border=\"1\" class=\"dataframe\">\n",
       "  <thead>\n",
       "    <tr style=\"text-align: left;\">\n",
       "      <th>epoch</th>\n",
       "      <th>train_loss</th>\n",
       "      <th>valid_loss</th>\n",
       "      <th>accuracy</th>\n",
       "      <th>time</th>\n",
       "    </tr>\n",
       "  </thead>\n",
       "  <tbody>\n",
       "    <tr>\n",
       "      <td>0</td>\n",
       "      <td>0.215138</td>\n",
       "      <td>0.226018</td>\n",
       "      <td>0.929300</td>\n",
       "      <td>00:09</td>\n",
       "    </tr>\n",
       "    <tr>\n",
       "      <td>1</td>\n",
       "      <td>0.106958</td>\n",
       "      <td>0.113561</td>\n",
       "      <td>0.964200</td>\n",
       "      <td>00:09</td>\n",
       "    </tr>\n",
       "    <tr>\n",
       "      <td>2</td>\n",
       "      <td>0.074130</td>\n",
       "      <td>0.118930</td>\n",
       "      <td>0.962900</td>\n",
       "      <td>00:09</td>\n",
       "    </tr>\n",
       "    <tr>\n",
       "      <td>3</td>\n",
       "      <td>0.050473</td>\n",
       "      <td>0.036024</td>\n",
       "      <td>0.988700</td>\n",
       "      <td>00:09</td>\n",
       "    </tr>\n",
       "    <tr>\n",
       "      <td>4</td>\n",
       "      <td>0.031352</td>\n",
       "      <td>0.023435</td>\n",
       "      <td>0.992300</td>\n",
       "      <td>00:09</td>\n",
       "    </tr>\n",
       "  </tbody>\n",
       "</table>"
      ],
      "text/plain": [
       "<IPython.core.display.HTML object>"
      ]
     },
     "metadata": {},
     "output_type": "display_data"
    }
   ],
   "source": [
    "learn3.fit_one_cycle(5, lr_max=1e-1)"
   ]
  },
  {
   "cell_type": "markdown",
   "id": "individual-currency",
   "metadata": {},
   "source": [
    "Over 99%, not bad"
   ]
  }
 ],
 "metadata": {
  "kernelspec": {
   "display_name": "Python 3",
   "language": "python",
   "name": "python3"
  },
  "language_info": {
   "codemirror_mode": {
    "name": "ipython",
    "version": 3
   },
   "file_extension": ".py",
   "mimetype": "text/x-python",
   "name": "python",
   "nbconvert_exporter": "python",
   "pygments_lexer": "ipython3",
   "version": "3.8.5"
  }
 },
 "nbformat": 4,
 "nbformat_minor": 5
}
